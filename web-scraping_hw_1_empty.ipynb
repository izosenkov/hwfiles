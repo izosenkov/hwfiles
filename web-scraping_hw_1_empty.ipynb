{
 "cells": [
  {
   "cell_type": "markdown",
   "id": "ec063c9f",
   "metadata": {},
   "source": [
    "# Сбор данных с Web-scraping и API для социально-научных исследований\n",
    "---\n",
    "# Домашнее задание №1: `requests` и `BeautifulSoup`\n",
    "\n",
    "---\n",
    "*ФСН, ОП \"Политология\", 2023-2024 гг.*\n",
    "\n",
    "Лика Капустина,\n",
    "\n",
    "lkapustina@hse.ru\n",
    "\n",
    "---\n",
    "#### Правила игры\n",
    "Домашние задания выполняются индивидуально. При любых нетривиальных совпадениях в решениях задач все вовлечённые домашние работы будут оценены на 0 баллов. \n",
    "\n",
    "- Домашние задания, присланные после дедлайна, оцениваются с использованием понижающих коэффициентов: -1 балл за каждые сутки: *так, если дедлайн домашнего задания стоит 1 марта в 23:59, а вы сдали его 3 марта в 23:00, то получите к своей оценке -2 балла. Если вы сдадите его в 02:30 4 марта, то получите к своей оценке -3 балла.*\n",
    "- Домашние задания, сданные через неделю после указанного срока и позже, не принимаются и не оцениваются.\n",
    "- Домашние задания, сданные в форматах, отличных от указанного, не принимаются и не оцениваются.\n",
    "- Решение домашнего задания оформляется строго в этом файле, с сохранением его структуры и содержания. Домашние задания, сданные в самостоятельно сгенерированных файлах, к оцениванию не принимаются.\n",
    "\n",
    "#### Описание \n",
    "\n",
    "> Это домашнее задание направлено на отработку навыков, полученных на семинарах `1-6`, а именно на работу с `requests`, `BeautifulSoup`, `pandas`. Вы продолжите работать с сайтом Высшей Школы Экономики и по написанному заранее плану соберете данные об образовательных курсах на ОП \"Политология\", а далее соедините получившийся у вас датасет с датасетом, который мы собрали на семинарах `5-6`."
   ]
  },
  {
   "cell_type": "markdown",
   "id": "4a33dbb9",
   "metadata": {},
   "source": [
    "### Задача 0. Импортируйте все необходимые для работы библиотеки <font color='2DCB67'>(max 0 баллов)</font>"
   ]
  },
  {
   "cell_type": "code",
   "execution_count": 18,
   "id": "6b1dea2e",
   "metadata": {},
   "outputs": [],
   "source": [
    "# YOUR CODE HERE"
   ]
  },
  {
   "cell_type": "markdown",
   "id": "5cc8c41d",
   "metadata": {},
   "source": [
    "### Задача 1. Отправьте запрос к ссылке в ячейке ниже. Сохраните результат запроса в переменную. Обработайте html-разметку страницы и сохраните её в новую переменную <font color='2DCB67'>(max 0.5 баллов)</font>\n",
    "\n",
    "\n",
    "https://www.hse.ru/ba/political/courses/835156111.html"
   ]
  },
  {
   "cell_type": "code",
   "execution_count": 14,
   "id": "9c910957",
   "metadata": {},
   "outputs": [],
   "source": [
    "# YOUR CODE HERE"
   ]
  },
  {
   "cell_type": "markdown",
   "id": "225529d8",
   "metadata": {},
   "source": [
    "### Задача 2. Изучите html-разметку страницы и напишите код, который выведет на экран следующую информацию: <font color='2DCB67'>(max 2 балла)</font>\n",
    "<p></p>\n",
    "<center> \n",
    "    <table>\n",
    "        <tr>\n",
    "            <th>Переменная</th>\n",
    "            <th>Формат данных</th>\n",
    "        </tr> \n",
    "        <tr><td>Название курса</td><td>Строка</td></tr>\n",
    "        <tr><td>Число кредитов по курсу</td><td>Целое число</td></tr>\n",
    "        <tr><td>Статус курса</td><td>Строка: <code>Курс обязательный</code>/<code>Курс по выбору</code></td></tr>\n",
    "        <tr><td>Период реализации курса</td><td>Строка</td></tr>\n",
    "        <tr><td>Имена преподавателей курса</td><td>Имена преподавателей, отсортированные в алфавитном порядке и перечисленные через запятую</td></tr>\n",
    "    </table>\n",
    "</center>"
   ]
  },
  {
   "cell_type": "code",
   "execution_count": 1,
   "id": "347ab39d",
   "metadata": {},
   "outputs": [],
   "source": [
    "# YOUR CODE HERE"
   ]
  },
  {
   "cell_type": "code",
   "execution_count": 2,
   "id": "f1e7357d",
   "metadata": {},
   "outputs": [],
   "source": [
    "# YOUR CODE HERE"
   ]
  },
  {
   "cell_type": "code",
   "execution_count": 3,
   "id": "c1c5e115",
   "metadata": {},
   "outputs": [],
   "source": [
    "# YOUR CODE HERE"
   ]
  },
  {
   "cell_type": "code",
   "execution_count": 4,
   "id": "52c81c11",
   "metadata": {},
   "outputs": [],
   "source": [
    "# YOUR CODE HERE"
   ]
  },
  {
   "cell_type": "code",
   "execution_count": 5,
   "id": "a484cd67",
   "metadata": {},
   "outputs": [],
   "source": [
    "# YOUR CODE HERE"
   ]
  },
  {
   "cell_type": "markdown",
   "id": "ff24fa18",
   "metadata": {},
   "source": [
    "### Задача №3. Сбор ссылок <font color='2DCB67'>(max 0.5 баллов)</font>\n",
    "\n",
    "Соберите ссылки на **страницы преподавателей этого курса** на сайте Вышки. Будьте внимательны и соберите только релевантные ссылки."
   ]
  },
  {
   "cell_type": "code",
   "execution_count": 6,
   "id": "519f37ad",
   "metadata": {},
   "outputs": [],
   "source": [
    "# YOUR CODE HERE"
   ]
  },
  {
   "cell_type": "markdown",
   "id": "c9e978c4",
   "metadata": {},
   "source": [
    "### Задача №4. Сбор 3 дополнительных атрибутов по своему выбору <font color='2DCB67'>(max 1 балл)</font>\n",
    "\n",
    "**Обратитесь к html-разметке страницы курса и выберите, какую еще информацию вы хотели бы собрать со страницы курса. Напечатайте эти значения**.\n",
    "\n",
    "**Что считается за атрибут:** информация, касающаяся курса; информация, на основе которой можно было бы создать осмысленную переменную, сообщающую нам что-то про курс, который нас интересует, и которая имеет хотя бы какую-то вариацию теоретически (у разных курсов разное количество кредитов, разный язык реализации, и пр.). \n",
    "\n",
    "**Что не считается за атрибут:** информация, которая является одинаковой для любой страницы курса (информация об академическом руководителе программе, менеджере, контакты учебного офиса, ссылки на общеуниверситетские ресурсы)."
   ]
  },
  {
   "cell_type": "code",
   "execution_count": 7,
   "id": "fde52dd4",
   "metadata": {},
   "outputs": [],
   "source": [
    "# YOUR CODE HERE"
   ]
  },
  {
   "cell_type": "code",
   "execution_count": 8,
   "id": "867ba072",
   "metadata": {},
   "outputs": [],
   "source": [
    "# YOUR CODE HERE"
   ]
  },
  {
   "cell_type": "code",
   "execution_count": 9,
   "id": "54c7deb8",
   "metadata": {},
   "outputs": [],
   "source": [
    "# YOUR CODE HERE"
   ]
  },
  {
   "cell_type": "markdown",
   "id": "14e4de5e",
   "metadata": {},
   "source": [
    "### Задача №5. Напишите функцию, которая будет собирать информацию с одной страницы такого типа <font color='2DCB67'>(max 1 балл)</font>:\n",
    "\n",
    "**Функция должна:**\n",
    "* **Принимать** на вход ссылку на страницу курса;\n",
    "* **Делать запрос** к странице, обрабатывать полученную html-разметку страницы с помощью функции `BeautifulSoup()`;\n",
    "* **Собирать информацию о всех пяти атрибутах** из <font color='blue'>задачи 2</font>;\n",
    "* **Собирать информацию о всех трех выбранных вами** атрибутах из <font color='blue'>задачи 3</font>;\n",
    "* **Возвращать `pandas.DataFrame`** со всеми перечисленными выше переменными:\n",
    "    * `pandas.DataFrame` должен иметь осмысленные названия колонок: не `col_1`, `col_2` и т.д.\n",
    "    \n",
    "    \n",
    "**Создайте функцию и примените её к ссылке из <font color='blue'>задачи №1</font>**"
   ]
  },
  {
   "cell_type": "code",
   "execution_count": 10,
   "id": "073b3280",
   "metadata": {},
   "outputs": [],
   "source": [
    "# YOUR CODE HERE"
   ]
  },
  {
   "cell_type": "markdown",
   "id": "2b086017",
   "metadata": {},
   "source": [
    "Результат исполнения функции должен выглядеть таким образом (с вашими переменными в колонках `col_one`, `col_two`, `col_three`):"
   ]
  },
  {
   "cell_type": "code",
   "execution_count": 74,
   "id": "cbe5bff1",
   "metadata": {},
   "outputs": [
    {
     "data": {
      "text/html": [
       "<div>\n",
       "<style scoped>\n",
       "    .dataframe tbody tr th:only-of-type {\n",
       "        vertical-align: middle;\n",
       "    }\n",
       "\n",
       "    .dataframe tbody tr th {\n",
       "        vertical-align: top;\n",
       "    }\n",
       "\n",
       "    .dataframe thead th {\n",
       "        text-align: right;\n",
       "    }\n",
       "</style>\n",
       "<table border=\"1\" class=\"dataframe\">\n",
       "  <thead>\n",
       "    <tr style=\"text-align: right;\">\n",
       "      <th></th>\n",
       "      <th>course_name</th>\n",
       "      <th>course_credits</th>\n",
       "      <th>course_status</th>\n",
       "      <th>course_period</th>\n",
       "      <th>course_tutors</th>\n",
       "      <th>col_one</th>\n",
       "      <th>col_two</th>\n",
       "      <th>col_three</th>\n",
       "    </tr>\n",
       "  </thead>\n",
       "  <tbody>\n",
       "    <tr>\n",
       "      <th>0</th>\n",
       "      <td>Категории политической науки</td>\n",
       "      <td>5</td>\n",
       "      <td>Курс обязательный</td>\n",
       "      <td>1-й курс, 1, 2 модуль</td>\n",
       "      <td>Локшин Илья Михайлович, Мальцев Артем Михайлов...</td>\n",
       "      <td>value_1</td>\n",
       "      <td>value_2</td>\n",
       "      <td>value_3</td>\n",
       "    </tr>\n",
       "  </tbody>\n",
       "</table>\n",
       "</div>"
      ],
      "text/plain": [
       "                    course_name  course_credits      course_status   \n",
       "0  Категории политической науки               5  Курс обязательный  \\\n",
       "\n",
       "           course_period                                      course_tutors   \n",
       "0  1-й курс, 1, 2 модуль  Локшин Илья Михайлович, Мальцев Артем Михайлов...  \\\n",
       "\n",
       "   col_one  col_two col_three  \n",
       "0  value_1  value_2   value_3  "
      ]
     },
     "execution_count": 74,
     "metadata": {},
     "output_type": "execute_result"
    }
   ],
   "source": [
    "get_data_from_page_course('https://www.hse.ru/ba/political/courses/835156111.html') # ПРИМЕР"
   ]
  },
  {
   "cell_type": "markdown",
   "id": "983e55e5",
   "metadata": {},
   "source": [
    "### Задача №6. Соберите ссылки со страницы, сохраните их в список <font color='2DCB67'>(max 0.5 баллов)</font>\n",
    "\n",
    "Перед вами страница с курсами ОП \"Политология\": https://www.hse.ru/ba/political/courses .\n",
    "\n",
    "\n",
    "* **Сделайте запрос к этой странице** и обработайте её html-разметку. **Соберите ссылки на все страницы курсов, которые представлены здесь:**. \n",
    "    * **Обратите внимание:** *вам не нужно проходиться по всем страницам содержащим ссылки на курсы. Их всего 4, вам нужна только первая страница (ссылка выше).*\n",
    "* **Сохраните** их в список `course_links`;\n",
    "* В следующей ячейке **напечатайте названия курсов, представленные на странице**;\n"
   ]
  },
  {
   "cell_type": "code",
   "execution_count": 30,
   "id": "aa981554",
   "metadata": {},
   "outputs": [],
   "source": [
    "# YOUR CODE HERE"
   ]
  },
  {
   "cell_type": "code",
   "execution_count": 31,
   "id": "124306f6",
   "metadata": {},
   "outputs": [],
   "source": [
    "# YOUR CODE HERE"
   ]
  },
  {
   "cell_type": "code",
   "execution_count": null,
   "id": "0b674a16",
   "metadata": {},
   "outputs": [],
   "source": [
    "# YOUR CODE HERE"
   ]
  },
  {
   "cell_type": "markdown",
   "id": "0521ecaf",
   "metadata": {},
   "source": [
    "### Задача №7. С помощью цикла `for` пройдитесь по этим ссылкам, обратитесь к каждой и с помощью функции, написанной в <font color='blue'>задаче №5</font>, соберите данные о курсе. В результате исполнения кода представьте `pandas.DataFrame` с информацией об этих курсах <font color='2DCB67'>(max 1 балл)</font>.\n",
    "\n",
    "\n",
    "* **7.1 Результат исполнения ячеек кода ниже – `pandas.DataFrame` с информацией о курсах**, расположенных по ссылкам в списке (созданном в рамках решения <font color='blue'>задачи №6</font> - или, если вы её не решили, из списка `first_list`);\n",
    "    * Если вы не смогли собрать ссылки на предыдущем этапе, пользуйтесь списком с ссылками `first_list` ниже.\n",
    "    \n",
    "    \n",
    "    \n",
    "* **7.2 Дополните ваш код конструкцией `try-except` и реализуйте следующий механизм работы конструкции**:\n",
    "    * Если обратиться к странице и собрать данные получилось, напечатайте *ссылку на страницу*;\n",
    "    * Если обратиться к странице и собрать данные не получилось, напечатайте сообщение `Ошибка!` и **сохраните эту ссылку** в список `problem_links`.\n",
    "    \n",
    "<p></p>\n",
    "\n",
    "* **7.3 Если вы столкнулись с <font color='orange'>ошибкой в функции</font>, вернитесь к <font color='blue'>задаче №5</font> и перепишите код так, чтобы в ходе его реализации не возникала ошибка**. \n",
    "    * Совет: Используйте функцию `get_data_from_page_course(link)` и примените её к конкретным ссылкам из списка `problem_links`, отсмотрите сообщения об ошибке и при необходимости используйте конструкцию `try-except` внутри тела функции;\n",
    "    * **Если вы переписывали ваш код из задачи №5, напишите в этой ячейке: что вы исправили, где использовали функцию `try-except` и другие действия, которые вы проделывали.**\n",
    "<p></p>\n",
    "\n",
    "        <font color='blue'>..если вы переписывали вашу функцию, упомяните сделанные вами изменения тут..</font><p></p>\n",
    "    * <font color='FF5900'>Если вы столкнулись с ошибкой, но решили не редактировать код на предмет избавления от ошибок, за задание не будет поставлен максимальный балл.</font>\n",
    "\n",
    "--- \n",
    "Это нормально, если информация не о всех атрибутах встречается на странице одного типа.\n",
    "\n",
    "**Приведу пример на данных о [курсах ОП \"Политология\" в 2019-2020 гг.](https://www.hse.ru/ba/political/courses?page=1&year=2019):**\n",
    "* На странице курса [\"Количественные методы и модели оценки эффективности государства\"](https://www.hse.ru/ba/political/courses/296799735.html) есть почти все возможные элементы: помимо информации в шапке курса, есть описание элементов контроля, формула оценки, содержание учебной дисциплины и пр. Однако, нет ссылки на страницу преподавателя – потому что Егор Юрескул больше не работает в Вышке;\n",
    "* На странице курса [\"Новые направления исследований в политической науке\"](https://www.hse.ru/ba/political/courses/296809241.html) есть базовая информация в шапке и ссылка на страницу преподавателя, однако, нет больше никакой информации: ни описания курса, ни формулы оценки, ни содержания учебной дисциплины.\n",
    "\n",
    "Сейчас и в будущем вы будете работать с неидеальными веб-страницами, которые могут имеют отличающаюся структуру. Это нормально. "
   ]
  },
  {
   "cell_type": "code",
   "execution_count": 55,
   "id": "25fc14c4",
   "metadata": {},
   "outputs": [],
   "source": [
    "# Сохраненные ссылки на страницы курсов\n",
    "first_list = ['https://www.hse.ru/ba/political/courses/875192498.html',\n",
    " 'https://www.hse.ru/ba/political/courses/835140250.html',\n",
    " 'https://www.hse.ru/ba/political/courses/835148844.html',\n",
    " 'https://www.hse.ru/ba/political/courses/835143553.html',\n",
    " 'https://www.hse.ru/ba/political/courses/835145576.html',\n",
    " 'https://www.hse.ru/ba/political/courses/835129054.html',\n",
    " 'https://www.hse.ru/ba/political/courses/835166759.html',\n",
    " 'https://www.hse.ru/ba/political/courses/835165443.html',\n",
    " 'https://www.hse.ru/ba/political/courses/873605825.html',\n",
    " 'https://www.hse.ru/ba/political/courses/873593722.html',\n",
    " 'https://www.hse.ru/ba/political/courses/835130978.html',\n",
    " 'https://www.hse.ru/ba/political/courses/835126728.html',\n",
    " 'https://www.hse.ru/ba/political/courses/835149500.html',\n",
    " 'https://www.hse.ru/ba/political/courses/835137568.html',\n",
    " 'https://www.hse.ru/ba/political/courses/835134848.html',\n",
    " 'https://www.hse.ru/ba/political/courses/835137696.html',\n",
    " 'https://www.hse.ru/ba/political/courses/835132680.html',\n",
    " 'https://www.hse.ru/ba/political/courses/835130539.html',\n",
    " 'https://www.hse.ru/ba/political/courses/835156111.html',\n",
    " 'https://www.hse.ru/ba/political/courses/835168671.html']\n",
    "\n",
    "problem_links = []"
   ]
  },
  {
   "cell_type": "code",
   "execution_count": 11,
   "id": "591dc00f",
   "metadata": {},
   "outputs": [],
   "source": [
    "# YOUR CODE HERE"
   ]
  },
  {
   "cell_type": "markdown",
   "id": "810d1b99",
   "metadata": {},
   "source": [
    "### Задача №8. Соедините эти данные и датасет по преподавателям, который собрали в рамках семинаров `5-6` <font color='2DCB67'>(max 1 балл)</font>.\n",
    "\n",
    "**8.1. Обратитесь к вашему датафрейму `df`.**\n",
    "\n",
    "**8.2. Создайте датафрейм `df_full` - отфильтруйте туда только те курсы, у которых указан преподаватель**.\n",
    "\n",
    "**8.3. Создайте в датафрейме `df_full` переменную `name`. Используйте именованную или анонимную функцию, чтобы сохранить туда только первое имя преподавателя из колонки `course_tutors`.**"
   ]
  },
  {
   "cell_type": "code",
   "execution_count": 12,
   "id": "844c6002",
   "metadata": {},
   "outputs": [],
   "source": [
    "# YOUR CODE HERE"
   ]
  },
  {
   "cell_type": "markdown",
   "id": "7f77ffb9",
   "metadata": {},
   "source": [
    "**8.4. Загрузите файл `'political_science_tutors_24.01.2024.xlsx'`** (представлен на [странице курса](https://kapustina-courses.notion.site/kapustina-courses/Web-scraping-API-2023-2024-991f447bd3e54c1897b2eed9ddc30c32) в разделе `Семинары 5-6. Парсинг HTML с BeautifulSoup. requests. pandas – продолжение (24 января 2024)`.  **Сохраните его как `df_tutors`**."
   ]
  },
  {
   "cell_type": "code",
   "execution_count": 13,
   "id": "c37ef25a",
   "metadata": {},
   "outputs": [],
   "source": [
    "# YOUR CODE HERE"
   ]
  },
  {
   "cell_type": "markdown",
   "id": "f36c7ea3",
   "metadata": {},
   "source": [
    "**8.5. Используйте функцию `pandas.merge` и соедините два датасета – датасет `df_full` и датасет `df_tutors`**\n",
    "* Датасет слева (`left:`) – `df_full`;\n",
    "* Датасет справа (`right:`) – `df_tutors`;\n",
    "* Смэтчите их по имени (первого) преподавателя (см. <font color='blue'>задачу №8, пункт 3</font>).\n",
    "\n",
    "У вас должен получиться датафрейм со следующей структурой: **одно наблюдение – информация об одном курсе с дополнительной информацией о первом преподавателе этого курса.**\n",
    "\n",
    "*Если вы не работали ранее с функцией `pandas.merge`, используйте справку по функции (с помощью `help(..)`) или посмотрите [документацию по функции](https://pandas.pydata.org/docs/reference/api/pandas.DataFrame.merge.html).*"
   ]
  },
  {
   "cell_type": "code",
   "execution_count": 14,
   "id": "8208dffd",
   "metadata": {},
   "outputs": [],
   "source": [
    "# YOUR CODE HERE"
   ]
  },
  {
   "cell_type": "markdown",
   "id": "350805fe",
   "metadata": {},
   "source": [
    "### Задача №9. Проведите небольшой дескриптивный анализ ваших данных: <font color='2DCB67'>(max 1.5 балла)</font>\n",
    " \n",
    "**Для каждой переменной ниже сделайте следующее:**\n",
    "1. **Приведите распределение переменных** (с помощью методов и функций `pandas`), посчитайте и прокомментируйте наиболее типичные значения;\n",
    "2. **Выберите подходящий тип графика и постройте график**, который может наиболее корректно отобразить распределение этих переменных:\n",
    "    * Используйте пакеты `seaborn`, `matplotlib`, `plotly` или любые другие;\n",
    "    * Прокомментируйте, почему вы выбрали именно такой тип графика;\n",
    "    * При оценивании графиков внимание будет уделяться не только выбранному типу графика, но и оформлению: подписям шкал, названию и пр. \n",
    "3. **Проинтерпретируйте полученные значения и полученный график. Что вы можете содержательно сказать о получившихся значениях?**"
   ]
  },
  {
   "cell_type": "markdown",
   "id": "a8fc453b",
   "metadata": {},
   "source": [
    "**9.1. Распределение показателя наличия кандидатской/PhD (`is_candidat`) у преподавателей этих курсов**"
   ]
  },
  {
   "cell_type": "code",
   "execution_count": 15,
   "id": "e6b1c8c3",
   "metadata": {},
   "outputs": [],
   "source": [
    "# YOUR CODE HERE"
   ]
  },
  {
   "cell_type": "code",
   "execution_count": 16,
   "id": "08514232",
   "metadata": {},
   "outputs": [],
   "source": [
    "# Ваш график тут"
   ]
  },
  {
   "cell_type": "markdown",
   "id": "42e2c1b5",
   "metadata": {},
   "source": [
    "<font color='blue'><i>..ваша интерпретация тут..</i></font>"
   ]
  },
  {
   "cell_type": "markdown",
   "id": "5279915f",
   "metadata": {},
   "source": [
    "**9.2 Распределение числа уникальных курсов (`n_unique_courses`) у преподавателей этих курсов**"
   ]
  },
  {
   "cell_type": "code",
   "execution_count": 17,
   "id": "696d1e6a",
   "metadata": {},
   "outputs": [],
   "source": [
    "# YOUR CODE HERE"
   ]
  },
  {
   "cell_type": "code",
   "execution_count": null,
   "id": "fd5eda52",
   "metadata": {},
   "outputs": [],
   "source": [
    "# Ваш график тут"
   ]
  },
  {
   "cell_type": "markdown",
   "id": "4e39830b",
   "metadata": {},
   "source": [
    "<font color='blue'><i>..ваша интерпретация тут..</i></font>"
   ]
  },
  {
   "cell_type": "markdown",
   "id": "2d32be85",
   "metadata": {},
   "source": [
    "**9.3 Выберите еще одну переменную и проинтерпретируйте её распределение, наиболее типичные значения, выберите и постройте наиболее подходящий график**"
   ]
  },
  {
   "cell_type": "code",
   "execution_count": null,
   "id": "1e0caf3f",
   "metadata": {},
   "outputs": [],
   "source": [
    "# YOUR CODE HERE"
   ]
  },
  {
   "cell_type": "code",
   "execution_count": null,
   "id": "d24f6006",
   "metadata": {},
   "outputs": [],
   "source": [
    "# Ваш график тут"
   ]
  },
  {
   "cell_type": "markdown",
   "id": "09d3e079",
   "metadata": {},
   "source": [
    "<font color='blue'><i>..ваша интерпретация тут..</i></font>"
   ]
  },
  {
   "cell_type": "markdown",
   "id": "e96bd71c",
   "metadata": {},
   "source": [
    "### Задача №10. Подумайте о собранных вами данных <font color='2DCB67'>(max 1 балл)</font>\n",
    "\n",
    "Порефлексируйте на тему собранных вами данных по курсам ОП \"Политология\". **Напишите с опорой на следующие вопросы небольшой текст про ваши данные:**\n",
    "\n",
    "* Как вам кажется, насколько корректны собранные вами данные? Как переменные встречаются всегда, а какие нет? Страницы, с которыми вы работали в ходе домашнего задания, имеют очень схожую структуру и полноту данных или нет?\n",
    "* С какими проблемами в ходе сбора данных вы столкнулись?\n",
    "* Как можно было бы улучшить ваш код?\n",
    "* В теории, для ответа на какой вопрос эти данные были бы полезны? С какими датасетами можно было бы совместить данные по курсам на ОП \"Политология\" чтобы в дальнейшем получить ответ на этот вопрос? Придумайте 1-2 идеи для исследования или аналитического материала."
   ]
  },
  {
   "cell_type": "markdown",
   "id": "b451956d",
   "metadata": {},
   "source": [
    "<font color='blue'><i>..ваш ответ тут..</i></font>"
   ]
  }
 ],
 "metadata": {
  "kernelspec": {
   "display_name": "Python 3 (ipykernel)",
   "language": "python",
   "name": "python3"
  },
  "language_info": {
   "codemirror_mode": {
    "name": "ipython",
    "version": 3
   },
   "file_extension": ".py",
   "mimetype": "text/x-python",
   "name": "python",
   "nbconvert_exporter": "python",
   "pygments_lexer": "ipython3",
   "version": "3.9.13"
  }
 },
 "nbformat": 4,
 "nbformat_minor": 5
}
